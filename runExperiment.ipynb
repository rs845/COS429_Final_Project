{
  "nbformat": 4,
  "nbformat_minor": 0,
  "metadata": {
    "colab": {
      "name": "runExperiment.ipynb",
      "provenance": [],
      "collapsed_sections": [],
      "include_colab_link": true
    },
    "kernelspec": {
      "display_name": "Python 3",
      "name": "python3"
    }
  },
  "cells": [
    {
      "cell_type": "markdown",
      "metadata": {
        "id": "view-in-github",
        "colab_type": "text"
      },
      "source": [
        "<a href=\"https://colab.research.google.com/github/rs845/COS429_Final_Project/blob/master/runExperiment.ipynb\" target=\"_parent\"><img src=\"https://colab.research.google.com/assets/colab-badge.svg\" alt=\"Open In Colab\"/></a>"
      ]
    },
    {
      "cell_type": "code",
      "metadata": {
        "colab": {
          "base_uri": "https://localhost:8080/",
          "height": 232
        },
        "id": "TNtsMevnGVpi",
        "outputId": "95168d49-b190-4ccf-8282-76cf80a6101e"
      },
      "source": [
        "# transfer data from drive to colab storage\n",
        "zip_path = Path(COS429/FinalProject/archive.zip)\n",
        "!cp “{zip_path}” .\n",
        "!unzip -q archive.zip\n",
        "!rm archive.zip"
      ],
      "execution_count": 18,
      "outputs": [
        {
          "output_type": "error",
          "ename": "NameError",
          "evalue": "ignored",
          "traceback": [
            "\u001b[0;31m---------------------------------------------------------------------------\u001b[0m",
            "\u001b[0;31mNameError\u001b[0m                                 Traceback (most recent call last)",
            "\u001b[0;32m<ipython-input-18-f3569ac8d52a>\u001b[0m in \u001b[0;36m<module>\u001b[0;34m()\u001b[0m\n\u001b[1;32m      1\u001b[0m \u001b[0;31m# transfer data from drive to colab storage\u001b[0m\u001b[0;34m\u001b[0m\u001b[0;34m\u001b[0m\u001b[0;34m\u001b[0m\u001b[0m\n\u001b[0;32m----> 2\u001b[0;31m \u001b[0mzip_path\u001b[0m \u001b[0;34m=\u001b[0m \u001b[0mPath\u001b[0m\u001b[0;34m(\u001b[0m\u001b[0mCOS429\u001b[0m\u001b[0;34m/\u001b[0m\u001b[0mFinalProject\u001b[0m\u001b[0;34m/\u001b[0m\u001b[0marchive\u001b[0m\u001b[0;34m.\u001b[0m\u001b[0mzip\u001b[0m\u001b[0;34m)\u001b[0m\u001b[0;34m\u001b[0m\u001b[0;34m\u001b[0m\u001b[0m\n\u001b[0m\u001b[1;32m      3\u001b[0m \u001b[0mget_ipython\u001b[0m\u001b[0;34m(\u001b[0m\u001b[0;34m)\u001b[0m\u001b[0;34m.\u001b[0m\u001b[0msystem\u001b[0m\u001b[0;34m(\u001b[0m\u001b[0;34m'cp “{zip_path}” .'\u001b[0m\u001b[0;34m)\u001b[0m\u001b[0;34m\u001b[0m\u001b[0;34m\u001b[0m\u001b[0m\n\u001b[1;32m      4\u001b[0m \u001b[0mget_ipython\u001b[0m\u001b[0;34m(\u001b[0m\u001b[0;34m)\u001b[0m\u001b[0;34m.\u001b[0m\u001b[0msystem\u001b[0m\u001b[0;34m(\u001b[0m\u001b[0;34m'unzip -q archive.zip'\u001b[0m\u001b[0;34m)\u001b[0m\u001b[0;34m\u001b[0m\u001b[0;34m\u001b[0m\u001b[0m\n\u001b[1;32m      5\u001b[0m \u001b[0mget_ipython\u001b[0m\u001b[0;34m(\u001b[0m\u001b[0;34m)\u001b[0m\u001b[0;34m.\u001b[0m\u001b[0msystem\u001b[0m\u001b[0;34m(\u001b[0m\u001b[0;34m'rm archive.zip'\u001b[0m\u001b[0;34m)\u001b[0m\u001b[0;34m\u001b[0m\u001b[0;34m\u001b[0m\u001b[0m\n",
            "\u001b[0;31mNameError\u001b[0m: name 'Path' is not defined"
          ]
        }
      ]
    },
    {
      "cell_type": "code",
      "metadata": {
        "id": "5vVSPiKHAb7B"
      },
      "source": [
        "# import necessary packages\n",
        "from tensorflow.keras.applications import DenseNet121\n",
        "from tensorflow.keras.applications import InceptionV3\n",
        "from tensorflow.keras.applications import Xception # TensorFlow ONLY\n",
        "from tensorflow.keras.applications import VGG19\n",
        "from tensorflow.keras.preprocessing.image import ImageDataGenerator\n",
        "from tensorflow.keras.applications.densenet import preprocess_input as preprocess_densenet\n",
        "from tensorflow.keras.applications.inception_v3 import preprocess_input as preprocess_inception\n",
        "from tensorflow.keras.applications.xception import preprocess_input as preprocess_xception\n",
        "from tensorflow.keras.applications.vgg19 import preprocess_input as preprocess_vgg19\n",
        "from tensorflow.keras.preprocessing.image import img_to_array\n",
        "from tensorflow.keras.preprocessing.image import load_img\n",
        "from tensorflow.keras.models import Sequential\n",
        "from tensorflow.keras.optimizers import Adam\n",
        "from tensorflow.keras import layers\n",
        "import tensorflow as tf\n",
        "import matplotlib.pyplot as plt\n",
        "import pandas as pd\n",
        "import numpy as np\n",
        "import argparse\n",
        "import cv2"
      ],
      "execution_count": 6,
      "outputs": []
    },
    {
      "cell_type": "code",
      "metadata": {
        "colab": {
          "base_uri": "https://localhost:8080/"
        },
        "id": "O2mRZTGcUkGG",
        "outputId": "82b9e44d-db00-4981-a0a8-de82c027ff27"
      },
      "source": [
        "from google.colab import drive\n",
        "drive.mount('/content/drive')\n",
        "%cd /content/drive/My\\ Drive/"
      ],
      "execution_count": 7,
      "outputs": [
        {
          "output_type": "stream",
          "text": [
            "Drive already mounted at /content/drive; to attempt to forcibly remount, call drive.mount(\"/content/drive\", force_remount=True).\n",
            "/content/drive/My Drive\n"
          ],
          "name": "stdout"
        }
      ]
    },
    {
      "cell_type": "code",
      "metadata": {
        "id": "fF8u7yMQvu25"
      },
      "source": [
        "# !unzip -uq \"/content/drive/MyDrive/COS429/FinalProject/DenseNet-BC-121-32-no-top.h5.zip\" -d \"/content/drive/MyDrive/COS429/FinalProject/DenseNet-BC-121-32-no-top.h5\""
      ],
      "execution_count": null,
      "outputs": []
    },
    {
      "cell_type": "code",
      "metadata": {
        "id": "KXEg79b6CDmA",
        "colab": {
          "base_uri": "https://localhost:8080/"
        },
        "outputId": "aa214b4f-9039-473b-c3cc-1b0fcd7ad8d7"
      },
      "source": [
        "# import data\n",
        "# importing data\n",
        "base_path = 'COS429/FinalProject/archive/real_vs_fake/real-vs-fake/'\n",
        "image_gen = ImageDataGenerator(rescale=1./255.)\n",
        "\n",
        "train_flow = image_gen.flow_from_directory(\n",
        "    base_path + 'train/',\n",
        "    target_size=(224, 224),\n",
        "    batch_size=64,\n",
        "    class_mode='binary'\n",
        ")\n",
        "\n",
        "valid_flow = image_gen.flow_from_directory(\n",
        "    base_path + 'valid/',\n",
        "    target_size=(224, 224),\n",
        "    batch_size=64,\n",
        "    class_mode='binary'\n",
        ")\n",
        "\n",
        "test_flow = image_gen.flow_from_directory(\n",
        "    base_path + 'test/',\n",
        "    target_size=(224, 224),\n",
        "    batch_size=64,\n",
        "    class_mode='binary'\n",
        ")"
      ],
      "execution_count": 9,
      "outputs": [
        {
          "output_type": "stream",
          "text": [
            "Found 0 images belonging to 2 classes.\n",
            "Found 2597 images belonging to 2 classes.\n",
            "Found 10000 images belonging to 2 classes.\n"
          ],
          "name": "stdout"
        }
      ]
    },
    {
      "cell_type": "code",
      "metadata": {
        "colab": {
          "base_uri": "https://localhost:8080/",
          "height": 252
        },
        "id": "6JUdL0li2_06",
        "outputId": "59cdb2fb-db52-492a-b6fe-f7bb93ce2779"
      },
      "source": [
        "%tensorflow_version 2.x\n",
        "import tensorflow as tf\n",
        "print(tf.version)\n",
        "device_name = tf.test.gpu_device_name()\n",
        "if device_name != '/device:GPU:0':\n",
        "  raise SystemError('GPU device not found')\n",
        "print('Found GPU at: {}'.format(device_name))"
      ],
      "execution_count": null,
      "outputs": [
        {
          "output_type": "stream",
          "text": [
            "<module 'tensorflow._api.v2.version' from '/usr/local/lib/python3.6/dist-packages/tensorflow/_api/v2/version/__init__.py'>\n"
          ],
          "name": "stdout"
        },
        {
          "output_type": "error",
          "ename": "SystemError",
          "evalue": "ignored",
          "traceback": [
            "\u001b[0;31m---------------------------------------------------------------------------\u001b[0m",
            "\u001b[0;31mSystemError\u001b[0m                               Traceback (most recent call last)",
            "\u001b[0;32m<ipython-input-6-dd5c2ecaa432>\u001b[0m in \u001b[0;36m<module>\u001b[0;34m()\u001b[0m\n\u001b[1;32m      4\u001b[0m \u001b[0mdevice_name\u001b[0m \u001b[0;34m=\u001b[0m \u001b[0mtf\u001b[0m\u001b[0;34m.\u001b[0m\u001b[0mtest\u001b[0m\u001b[0;34m.\u001b[0m\u001b[0mgpu_device_name\u001b[0m\u001b[0;34m(\u001b[0m\u001b[0;34m)\u001b[0m\u001b[0;34m\u001b[0m\u001b[0;34m\u001b[0m\u001b[0m\n\u001b[1;32m      5\u001b[0m \u001b[0;32mif\u001b[0m \u001b[0mdevice_name\u001b[0m \u001b[0;34m!=\u001b[0m \u001b[0;34m'/device:GPU:0'\u001b[0m\u001b[0;34m:\u001b[0m\u001b[0;34m\u001b[0m\u001b[0;34m\u001b[0m\u001b[0m\n\u001b[0;32m----> 6\u001b[0;31m   \u001b[0;32mraise\u001b[0m \u001b[0mSystemError\u001b[0m\u001b[0;34m(\u001b[0m\u001b[0;34m'GPU device not found'\u001b[0m\u001b[0;34m)\u001b[0m\u001b[0;34m\u001b[0m\u001b[0;34m\u001b[0m\u001b[0m\n\u001b[0m\u001b[1;32m      7\u001b[0m \u001b[0mprint\u001b[0m\u001b[0;34m(\u001b[0m\u001b[0;34m'Found GPU at: {}'\u001b[0m\u001b[0;34m.\u001b[0m\u001b[0mformat\u001b[0m\u001b[0;34m(\u001b[0m\u001b[0mdevice_name\u001b[0m\u001b[0;34m)\u001b[0m\u001b[0;34m)\u001b[0m\u001b[0;34m\u001b[0m\u001b[0;34m\u001b[0m\u001b[0m\n",
            "\u001b[0;31mSystemError\u001b[0m: GPU device not found"
          ]
        }
      ]
    },
    {
      "cell_type": "markdown",
      "metadata": {
        "id": "YyYx9Olq-o9e"
      },
      "source": [
        "**Classification Models**"
      ]
    },
    {
      "cell_type": "code",
      "metadata": {
        "id": "1PzwD3a8ziWA"
      },
      "source": [
        "def build_dense(pretrained):\n",
        "    model = Sequential([\n",
        "        pretrained,\n",
        "        layers.GlobalAveragePooling2D(),\n",
        "        layers.Dense(1, activation='sigmoid')\n",
        "    ])\n",
        "    \n",
        "    model.compile(\n",
        "        loss='binary_crossentropy',\n",
        "        optimizer=Adam(),\n",
        "        metrics=['accuracy']\n",
        "    )\n",
        "    model.summary()\n",
        "    return model"
      ],
      "execution_count": null,
      "outputs": []
    },
    {
      "cell_type": "code",
      "metadata": {
        "id": "TOPXWDITct43"
      },
      "source": [
        "def build_vgg(pretrained):\n",
        "  model = Sequential([pretrained,\n",
        "                    layers.Flatten(),\n",
        "                    layers.Dense(2, activation = \"softmax\")])\n",
        "  model.layers[0].trainable = False\n",
        "  model.compile(loss=\"sparse_categorical_crossentropy\", optimizer=\"adam\", metrics=\"accuracy\")\n",
        "  model.summary()\n",
        "  return model"
      ],
      "execution_count": null,
      "outputs": []
    },
    {
      "cell_type": "code",
      "metadata": {
        "id": "Jtql-Se6o-uX"
      },
      "source": [
        "MODELS = {\n",
        "    \"denseNet\" : DenseNet121,\n",
        "    \"inception\" : InceptionV3,\n",
        "    \"xception\" : Xception,\n",
        "    \"vgg\" : VGG19\n",
        "}"
      ],
      "execution_count": null,
      "outputs": []
    },
    {
      "cell_type": "code",
      "metadata": {
        "id": "qUeWbInD-moi"
      },
      "source": [
        "training_steps = 100000//64\n",
        "validation_steps = 20000//64\n",
        "\n",
        "def DenseNet121():\n",
        "  model = DenseNet121(\n",
        "    weights= \"/content/drive/MyDrive/COS429/FinalProject/DenseNet-BC-121-32-no-top.h5/DenseNet-BC-121-32-no-top.h5\",\n",
        "    include_top=False,\n",
        "    input_shape=(224,224,3)\n",
        "  ) \n",
        "  densenet = build_dense(model)\n",
        "  densenet.summary()\n",
        "  densenet.fit(\n",
        "      train_flow,\n",
        "      epochs = 1,\n",
        "      steps_per_epoch = training_steps,\n",
        "      validation_data = valid_flow,\n",
        "      validation_steps = validation_steps\n",
        "  )\n",
        "\n",
        "\n",
        "def InceptionNetV3():\n",
        "  model = InceptionV3(\n",
        "      include_top=False,\n",
        "      weights=\"imagenet\",\n",
        "      input_shape=(224,224,3),\n",
        "      classifier_activation=\"softmax\",\n",
        "  )\n",
        "  inceptionnet = build_dense(model)\n",
        "  inceptionnet.summary()\n",
        "  inceptionnet.fit(\n",
        "      train_flow,\n",
        "      epochs = 1,\n",
        "      steps_per_epoch = 100000//64,\n",
        "      validation_data = valid_flow,\n",
        "      validation_steps = 20000//64\n",
        "  )\n",
        "\n",
        "\n",
        "def XceptionNet():\n",
        "  model = Xception(\n",
        "      include_top=False,\n",
        "      weights=\"imagenet\",\n",
        "      input_shape=(224,224,3),\n",
        "      classifier_activation=\"softmax\",\n",
        "  )\n",
        "  Xceptionnet = build_model(model)\n",
        "  Xceptionnet.summary()\n",
        "  Xceptionnet.fit(\n",
        "      train_flow,\n",
        "      epochs = 1,\n",
        "      steps_per_epoch = training_steps,\n",
        "      validation_data = valid_flow,\n",
        "      validation_steps = validation_steps\n",
        "  )\n",
        "\n",
        "\n",
        "def VGG():\n",
        "  model = VGG19(\n",
        "      include_top = False,\n",
        "      weights=\"imagenet\",\n",
        "      input_shape=(224,224,3)\n",
        "  )\n",
        "  print(model.output[-1])\n",
        "  VGGmodel = build_vgg(model)\n",
        "\n",
        "  VGGmodel.fit(\n",
        "      train_flow,\n",
        "      epochs = 1,\n",
        "      steps_per_epoch = training_steps,\n",
        "      validation_data = valid_flow,\n",
        "      validation_steps = validation_steps\n",
        "  )\n",
        "\n"
      ],
      "execution_count": null,
      "outputs": []
    },
    {
      "cell_type": "code",
      "metadata": {
        "id": "iY7NvBnItoEk"
      },
      "source": [
        "DenseNet121()"
      ],
      "execution_count": null,
      "outputs": []
    },
    {
      "cell_type": "code",
      "metadata": {
        "id": "sy0L7R3iWgfr"
      },
      "source": [
        "InceptionV3()"
      ],
      "execution_count": null,
      "outputs": []
    },
    {
      "cell_type": "code",
      "metadata": {
        "id": "v3y9tP1IZtV5"
      },
      "source": [
        "VGG()"
      ],
      "execution_count": null,
      "outputs": []
    }
  ]
}